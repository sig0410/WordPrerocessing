{
 "cells": [
  {
   "cell_type": "markdown",
   "metadata": {},
   "source": [
    "### Based on Context Window(Co - Occurence)"
   ]
  },
  {
   "cell_type": "code",
   "execution_count": 18,
   "metadata": {},
   "outputs": [],
   "source": [
    "import pandas as pd\n",
    "from collections import defaultdict"
   ]
  },
  {
   "cell_type": "markdown",
   "metadata": {},
   "source": [
    "### 텍스트 읽어오기 "
   ]
  },
  {
   "cell_type": "code",
   "execution_count": 29,
   "metadata": {},
   "outputs": [],
   "source": [
    "with open('./review.sorted.uniq.refined.tsv.text.tok') as f:\n",
    "    lines = [l.strip() for l in f.read().splitlines() if l.strip()]\n",
    "# 데이터에서 라벨은 제외한 텍스트만 불러오기 "
   ]
  },
  {
   "cell_type": "markdown",
   "metadata": {},
   "source": [
    "### 방법 정의"
   ]
  },
  {
   "cell_type": "code",
   "execution_count": 30,
   "metadata": {},
   "outputs": [],
   "source": [
    "def get_term_frequency(document):\n",
    "    term_freq = {}\n",
    "    # 단어와 빈도수를 보여주기 위해 dict형태 \n",
    "    words = document.split()\n",
    "    # 단어들을 빈칸으로 split\n",
    "    \n",
    "    for w in words:\n",
    "        term_freq[w] = 1 + (0 if term_freq.get(w) is None else term_freq[w])\n",
    "        # 만약 word에 있는 단어가 존재하면 1씩 더해주고 단어가 존재하지 않으면 더해주지 않는다 \n",
    "        \n",
    "    return term_freq"
   ]
  },
  {
   "cell_type": "code",
   "execution_count": 31,
   "metadata": {},
   "outputs": [],
   "source": [
    "def get_context_counts(lines, vocab, w_size = 2):\n",
    "    context_cnt = defaultdict(int)\n",
    "    \n",
    "    for line in lines:\n",
    "        words = line.split()\n",
    "        # 단어를 split\n",
    "        \n",
    "        for i, w in enumerate(words):\n",
    "            if w in vocab:\n",
    "                # 단어가 있으면 \n",
    "                for c in words[i - w_size:i + w_size]:\n",
    "                    if w != c:\n",
    "                        context_cnt[(w,c)] += 1\n",
    "                    # w_size가 2니깐 주위 2칸씩 돌면서 count \n",
    "    return context_cnt\n",
    "\n",
    "# context_cnt는 key가 (w,c)이고 value가 int"
   ]
  },
  {
   "cell_type": "code",
   "execution_count": 32,
   "metadata": {},
   "outputs": [],
   "source": [
    "def get_co_occurences_df(context_cnt, vocab):\n",
    "    data = []\n",
    "    \n",
    "    for word1 in vocab:\n",
    "        row = []\n",
    "        \n",
    "        for word2 in vocab:\n",
    "            try:\n",
    "                count = context_cnt[(word1, word2)]\n",
    "            except KeyError:\n",
    "                count = 0\n",
    "            row.append(count)\n",
    "            \n",
    "        data.append(row)\n",
    "        \n",
    "    return pd.DataFrame(data, index = vocab, columns = vocab)"
   ]
  },
  {
   "cell_type": "markdown",
   "metadata": {},
   "source": [
    "### Call Methods"
   ]
  },
  {
   "cell_type": "code",
   "execution_count": 33,
   "metadata": {},
   "outputs": [
    {
     "name": "stdout",
     "output_type": "stream",
     "text": [
      ".         86303\n",
      "고         49631\n",
      "이         44952\n",
      "하         42916\n",
      "좋         34589\n",
      "          ...  \n",
      "두드려서          1\n",
      "gvudsf        1\n",
      "ㅕㅅ            1\n",
      "나후            1\n",
      "녹물            1\n",
      "Length: 30084, dtype: int64\n"
     ]
    }
   ],
   "source": [
    "term_freq = pd.Series(\n",
    "    get_term_frequency(' '.join(lines))\n",
    ").sort_values(ascending = False)\n",
    "\n",
    "print(term_freq)\n",
    "\n",
    "# 데이터안의 각 단어들의 빈도를 보여줌 "
   ]
  },
  {
   "cell_type": "code",
   "execution_count": 34,
   "metadata": {},
   "outputs": [
    {
     "data": {
      "text/plain": [
       "Index(['.', '고', '이', '하', '좋', '네요', '도', '에', '는', '가',\n",
       "       ...\n",
       "       '한쪽', '엄마', '가을', 'ㅁ', '국산', '요청', '마', '보풀', '세일', '싸구려'],\n",
       "      dtype='object', length=800)"
      ]
     },
     "execution_count": 34,
     "metadata": {},
     "output_type": "execute_result"
    }
   ],
   "source": [
    "vector_size = 800\n",
    "term_freq.index[:vector_size]\n",
    "# 총 3만개의 데이터 중 빈도가 그나마 높다고 생각되는 단어만 추출하는 것(약 800개로 추정)"
   ]
  },
  {
   "cell_type": "code",
   "execution_count": 35,
   "metadata": {},
   "outputs": [
    {
     "data": {
      "text/plain": [
       ".         86303\n",
       "고         49631\n",
       "이         44952\n",
       "하         42916\n",
       "좋         34589\n",
       "          ...  \n",
       "두드려서          1\n",
       "gvudsf        1\n",
       "ㅕㅅ            1\n",
       "나후            1\n",
       "녹물            1\n",
       "Length: 30084, dtype: int64"
      ]
     },
     "execution_count": 35,
     "metadata": {},
     "output_type": "execute_result"
    }
   ],
   "source": [
    "term_freq"
   ]
  },
  {
   "cell_type": "code",
   "execution_count": 36,
   "metadata": {},
   "outputs": [
    {
     "data": {
      "text/plain": [
       "라고  비지떡     31\n",
       "    \".       1\n",
       "    200      2\n",
       "    ml       5\n",
       "    판매      16\n",
       "          ... \n",
       "았   ㅍ        1\n",
       "감사  ㅍㅍ       2\n",
       "고   수수     106\n",
       "수고  수수     212\n",
       "    고수       3\n",
       "Length: 1047278, dtype: int64"
      ]
     },
     "execution_count": 36,
     "metadata": {},
     "output_type": "execute_result"
    }
   ],
   "source": [
    "context_cnt = pd.Series(\n",
    "    get_context_counts(\n",
    "        lines,\n",
    "        term_freq.index[:vector_size],\n",
    "        w_size  = 4\n",
    "    )\n",
    ")\n",
    "\n",
    "context_cnt"
   ]
  },
  {
   "cell_type": "code",
   "execution_count": 37,
   "metadata": {},
   "outputs": [
    {
     "data": {
      "text/plain": [
       "라고  비지떡     31\n",
       "    \".       1\n",
       "    200      2\n",
       "    ml       5\n",
       "    판매      16\n",
       "          ... \n",
       "았   ㅍ        1\n",
       "감사  ㅍㅍ       2\n",
       "고   수수     106\n",
       "수고  수수     212\n",
       "    고수       3\n",
       "Length: 1047278, dtype: int64"
      ]
     },
     "execution_count": 37,
     "metadata": {},
     "output_type": "execute_result"
    }
   ],
   "source": [
    "context_cnt"
   ]
  },
  {
   "cell_type": "code",
   "execution_count": 41,
   "metadata": {},
   "outputs": [
    {
     "data": {
      "text/html": [
       "<div>\n",
       "<style scoped>\n",
       "    .dataframe tbody tr th:only-of-type {\n",
       "        vertical-align: middle;\n",
       "    }\n",
       "\n",
       "    .dataframe tbody tr th {\n",
       "        vertical-align: top;\n",
       "    }\n",
       "\n",
       "    .dataframe thead th {\n",
       "        text-align: right;\n",
       "    }\n",
       "</style>\n",
       "<table border=\"1\" class=\"dataframe\">\n",
       "  <thead>\n",
       "    <tr style=\"text-align: right;\">\n",
       "      <th></th>\n",
       "      <th>.</th>\n",
       "      <th>고</th>\n",
       "      <th>이</th>\n",
       "      <th>하</th>\n",
       "      <th>좋</th>\n",
       "      <th>네요</th>\n",
       "      <th>도</th>\n",
       "      <th>에</th>\n",
       "      <th>는</th>\n",
       "      <th>가</th>\n",
       "      <th>...</th>\n",
       "      <th>한쪽</th>\n",
       "      <th>엄마</th>\n",
       "      <th>가을</th>\n",
       "      <th>ㅁ</th>\n",
       "      <th>국산</th>\n",
       "      <th>요청</th>\n",
       "      <th>마</th>\n",
       "      <th>보풀</th>\n",
       "      <th>세일</th>\n",
       "      <th>싸구려</th>\n",
       "    </tr>\n",
       "  </thead>\n",
       "  <tbody>\n",
       "    <tr>\n",
       "      <td>.</td>\n",
       "      <td>0</td>\n",
       "      <td>9200</td>\n",
       "      <td>11111</td>\n",
       "      <td>9760</td>\n",
       "      <td>8211</td>\n",
       "      <td>14149</td>\n",
       "      <td>7929</td>\n",
       "      <td>6816</td>\n",
       "      <td>5063</td>\n",
       "      <td>5321</td>\n",
       "      <td>...</td>\n",
       "      <td>41</td>\n",
       "      <td>45</td>\n",
       "      <td>63</td>\n",
       "      <td>14</td>\n",
       "      <td>44</td>\n",
       "      <td>68</td>\n",
       "      <td>30</td>\n",
       "      <td>61</td>\n",
       "      <td>35</td>\n",
       "      <td>85</td>\n",
       "    </tr>\n",
       "    <tr>\n",
       "      <td>고</td>\n",
       "      <td>8762</td>\n",
       "      <td>0</td>\n",
       "      <td>4682</td>\n",
       "      <td>13988</td>\n",
       "      <td>7102</td>\n",
       "      <td>3398</td>\n",
       "      <td>15105</td>\n",
       "      <td>3634</td>\n",
       "      <td>3142</td>\n",
       "      <td>2426</td>\n",
       "      <td>...</td>\n",
       "      <td>62</td>\n",
       "      <td>15</td>\n",
       "      <td>26</td>\n",
       "      <td>17</td>\n",
       "      <td>23</td>\n",
       "      <td>30</td>\n",
       "      <td>47</td>\n",
       "      <td>41</td>\n",
       "      <td>18</td>\n",
       "      <td>30</td>\n",
       "    </tr>\n",
       "    <tr>\n",
       "      <td>이</td>\n",
       "      <td>10028</td>\n",
       "      <td>4767</td>\n",
       "      <td>0</td>\n",
       "      <td>3377</td>\n",
       "      <td>2854</td>\n",
       "      <td>6044</td>\n",
       "      <td>2169</td>\n",
       "      <td>3326</td>\n",
       "      <td>4554</td>\n",
       "      <td>2224</td>\n",
       "      <td>...</td>\n",
       "      <td>140</td>\n",
       "      <td>18</td>\n",
       "      <td>35</td>\n",
       "      <td>12</td>\n",
       "      <td>101</td>\n",
       "      <td>14</td>\n",
       "      <td>21</td>\n",
       "      <td>128</td>\n",
       "      <td>51</td>\n",
       "      <td>42</td>\n",
       "    </tr>\n",
       "    <tr>\n",
       "      <td>하</td>\n",
       "      <td>9051</td>\n",
       "      <td>13688</td>\n",
       "      <td>3625</td>\n",
       "      <td>0</td>\n",
       "      <td>3654</td>\n",
       "      <td>5694</td>\n",
       "      <td>4859</td>\n",
       "      <td>2738</td>\n",
       "      <td>5121</td>\n",
       "      <td>1925</td>\n",
       "      <td>...</td>\n",
       "      <td>19</td>\n",
       "      <td>40</td>\n",
       "      <td>9</td>\n",
       "      <td>20</td>\n",
       "      <td>13</td>\n",
       "      <td>63</td>\n",
       "      <td>30</td>\n",
       "      <td>18</td>\n",
       "      <td>60</td>\n",
       "      <td>15</td>\n",
       "    </tr>\n",
       "    <tr>\n",
       "      <td>좋</td>\n",
       "      <td>8096</td>\n",
       "      <td>8274</td>\n",
       "      <td>2990</td>\n",
       "      <td>3881</td>\n",
       "      <td>0</td>\n",
       "      <td>5551</td>\n",
       "      <td>5104</td>\n",
       "      <td>1636</td>\n",
       "      <td>1194</td>\n",
       "      <td>1210</td>\n",
       "      <td>...</td>\n",
       "      <td>0</td>\n",
       "      <td>28</td>\n",
       "      <td>33</td>\n",
       "      <td>23</td>\n",
       "      <td>15</td>\n",
       "      <td>0</td>\n",
       "      <td>9</td>\n",
       "      <td>11</td>\n",
       "      <td>10</td>\n",
       "      <td>13</td>\n",
       "    </tr>\n",
       "    <tr>\n",
       "      <td>...</td>\n",
       "      <td>...</td>\n",
       "      <td>...</td>\n",
       "      <td>...</td>\n",
       "      <td>...</td>\n",
       "      <td>...</td>\n",
       "      <td>...</td>\n",
       "      <td>...</td>\n",
       "      <td>...</td>\n",
       "      <td>...</td>\n",
       "      <td>...</td>\n",
       "      <td>...</td>\n",
       "      <td>...</td>\n",
       "      <td>...</td>\n",
       "      <td>...</td>\n",
       "      <td>...</td>\n",
       "      <td>...</td>\n",
       "      <td>...</td>\n",
       "      <td>...</td>\n",
       "      <td>...</td>\n",
       "      <td>...</td>\n",
       "      <td>...</td>\n",
       "    </tr>\n",
       "    <tr>\n",
       "      <td>요청</td>\n",
       "      <td>68</td>\n",
       "      <td>29</td>\n",
       "      <td>18</td>\n",
       "      <td>59</td>\n",
       "      <td>1</td>\n",
       "      <td>11</td>\n",
       "      <td>17</td>\n",
       "      <td>33</td>\n",
       "      <td>4</td>\n",
       "      <td>14</td>\n",
       "      <td>...</td>\n",
       "      <td>0</td>\n",
       "      <td>0</td>\n",
       "      <td>0</td>\n",
       "      <td>0</td>\n",
       "      <td>0</td>\n",
       "      <td>0</td>\n",
       "      <td>0</td>\n",
       "      <td>0</td>\n",
       "      <td>0</td>\n",
       "      <td>0</td>\n",
       "    </tr>\n",
       "    <tr>\n",
       "      <td>마</td>\n",
       "      <td>32</td>\n",
       "      <td>51</td>\n",
       "      <td>19</td>\n",
       "      <td>35</td>\n",
       "      <td>8</td>\n",
       "      <td>37</td>\n",
       "      <td>12</td>\n",
       "      <td>14</td>\n",
       "      <td>10</td>\n",
       "      <td>13</td>\n",
       "      <td>...</td>\n",
       "      <td>0</td>\n",
       "      <td>0</td>\n",
       "      <td>0</td>\n",
       "      <td>0</td>\n",
       "      <td>0</td>\n",
       "      <td>0</td>\n",
       "      <td>0</td>\n",
       "      <td>0</td>\n",
       "      <td>0</td>\n",
       "      <td>0</td>\n",
       "    </tr>\n",
       "    <tr>\n",
       "      <td>보풀</td>\n",
       "      <td>54</td>\n",
       "      <td>46</td>\n",
       "      <td>124</td>\n",
       "      <td>23</td>\n",
       "      <td>14</td>\n",
       "      <td>36</td>\n",
       "      <td>26</td>\n",
       "      <td>38</td>\n",
       "      <td>22</td>\n",
       "      <td>6</td>\n",
       "      <td>...</td>\n",
       "      <td>0</td>\n",
       "      <td>0</td>\n",
       "      <td>0</td>\n",
       "      <td>0</td>\n",
       "      <td>0</td>\n",
       "      <td>0</td>\n",
       "      <td>0</td>\n",
       "      <td>0</td>\n",
       "      <td>0</td>\n",
       "      <td>0</td>\n",
       "    </tr>\n",
       "    <tr>\n",
       "      <td>세일</td>\n",
       "      <td>37</td>\n",
       "      <td>25</td>\n",
       "      <td>22</td>\n",
       "      <td>50</td>\n",
       "      <td>12</td>\n",
       "      <td>13</td>\n",
       "      <td>10</td>\n",
       "      <td>22</td>\n",
       "      <td>18</td>\n",
       "      <td>5</td>\n",
       "      <td>...</td>\n",
       "      <td>0</td>\n",
       "      <td>0</td>\n",
       "      <td>0</td>\n",
       "      <td>0</td>\n",
       "      <td>22</td>\n",
       "      <td>0</td>\n",
       "      <td>0</td>\n",
       "      <td>0</td>\n",
       "      <td>0</td>\n",
       "      <td>0</td>\n",
       "    </tr>\n",
       "    <tr>\n",
       "      <td>싸구려</td>\n",
       "      <td>66</td>\n",
       "      <td>31</td>\n",
       "      <td>39</td>\n",
       "      <td>15</td>\n",
       "      <td>14</td>\n",
       "      <td>31</td>\n",
       "      <td>24</td>\n",
       "      <td>14</td>\n",
       "      <td>28</td>\n",
       "      <td>25</td>\n",
       "      <td>...</td>\n",
       "      <td>0</td>\n",
       "      <td>0</td>\n",
       "      <td>0</td>\n",
       "      <td>0</td>\n",
       "      <td>1</td>\n",
       "      <td>0</td>\n",
       "      <td>0</td>\n",
       "      <td>0</td>\n",
       "      <td>0</td>\n",
       "      <td>0</td>\n",
       "    </tr>\n",
       "  </tbody>\n",
       "</table>\n",
       "<p>800 rows × 800 columns</p>\n",
       "</div>"
      ],
      "text/plain": [
       "         .      고      이      하     좋     네요      도     에     는     가  ...  \\\n",
       ".        0   9200  11111   9760  8211  14149   7929  6816  5063  5321  ...   \n",
       "고     8762      0   4682  13988  7102   3398  15105  3634  3142  2426  ...   \n",
       "이    10028   4767      0   3377  2854   6044   2169  3326  4554  2224  ...   \n",
       "하     9051  13688   3625      0  3654   5694   4859  2738  5121  1925  ...   \n",
       "좋     8096   8274   2990   3881     0   5551   5104  1636  1194  1210  ...   \n",
       "..     ...    ...    ...    ...   ...    ...    ...   ...   ...   ...  ...   \n",
       "요청      68     29     18     59     1     11     17    33     4    14  ...   \n",
       "마       32     51     19     35     8     37     12    14    10    13  ...   \n",
       "보풀      54     46    124     23    14     36     26    38    22     6  ...   \n",
       "세일      37     25     22     50    12     13     10    22    18     5  ...   \n",
       "싸구려     66     31     39     15    14     31     24    14    28    25  ...   \n",
       "\n",
       "      한쪽  엄마  가을   ㅁ   국산  요청   마   보풀  세일  싸구려  \n",
       ".     41  45  63  14   44  68  30   61  35   85  \n",
       "고     62  15  26  17   23  30  47   41  18   30  \n",
       "이    140  18  35  12  101  14  21  128  51   42  \n",
       "하     19  40   9  20   13  63  30   18  60   15  \n",
       "좋      0  28  33  23   15   0   9   11  10   13  \n",
       "..   ...  ..  ..  ..  ...  ..  ..  ...  ..  ...  \n",
       "요청     0   0   0   0    0   0   0    0   0    0  \n",
       "마      0   0   0   0    0   0   0    0   0    0  \n",
       "보풀     0   0   0   0    0   0   0    0   0    0  \n",
       "세일     0   0   0   0   22   0   0    0   0    0  \n",
       "싸구려    0   0   0   0    1   0   0    0   0    0  \n",
       "\n",
       "[800 rows x 800 columns]"
      ]
     },
     "execution_count": 41,
     "metadata": {},
     "output_type": "execute_result"
    }
   ],
   "source": [
    "df = get_co_occurences_df(context_cnt, term_freq.index[:vector_size])\n",
    "\n",
    "df\n",
    "# 단어와 단어간 같이 나온 빈도를 확인할 수 있음 \n",
    "# 이거 좋네\n",
    "# 이걸보고 어떻게 전처리할지 판단할 수 있겠다\n",
    "# 특이점은 tail부분에는 sparse한 부분이 많은 \n",
    "# pca에 넣으면 괜찮은 vector가 나올 듯 "
   ]
  },
  {
   "cell_type": "code",
   "execution_count": 44,
   "metadata": {},
   "outputs": [
    {
     "name": "stdout",
     "output_type": "stream",
     "text": [
      "[[    0  9200 11111 ...    61    35    85]\n",
      " [ 8762     0  4682 ...    41    18    30]\n",
      " [10028  4767     0 ...   128    51    42]\n",
      " ...\n",
      " [   54    46   124 ...     0     0     0]\n",
      " [   37    25    22 ...     0     0     0]\n",
      " [   66    31    39 ...     0     0     0]]\n",
      "(800, 800)\n"
     ]
    }
   ],
   "source": [
    "print(df.values)\n",
    "print(df.values.shape)"
   ]
  },
  {
   "cell_type": "markdown",
   "metadata": {},
   "source": [
    "### 단어간 유사도 측정 "
   ]
  },
  {
   "cell_type": "code",
   "execution_count": 45,
   "metadata": {},
   "outputs": [],
   "source": [
    "import torch "
   ]
  },
  {
   "cell_type": "code",
   "execution_count": 46,
   "metadata": {},
   "outputs": [],
   "source": [
    "def get_l1_distance(x1, x2):\n",
    "    return ((x1 - x2).abs()).sum()\n",
    "# l1은 절댓값에 합 "
   ]
  },
  {
   "cell_type": "code",
   "execution_count": 47,
   "metadata": {},
   "outputs": [],
   "source": [
    "def get_l2_distance(x1, x2):\n",
    "    return ((x1 - x2) ** 2).sum()** .5\n",
    "# l2는 제곱의 총합에 루트"
   ]
  },
  {
   "cell_type": "code",
   "execution_count": 48,
   "metadata": {},
   "outputs": [],
   "source": [
    "def get_infinity_distance(x1, x2):\n",
    "    return((x1 - x2).abs()).max()\n",
    "# 절댓값을 씌우고 가장 큰 것 "
   ]
  },
  {
   "cell_type": "code",
   "execution_count": 50,
   "metadata": {},
   "outputs": [],
   "source": [
    "def get_cosine_similarity(x1, x2):\n",
    "    return (x1 * x2).sum() / ((x1**2).sum()**.5 * (x2**2).sum()**.5 + 1e-10)"
   ]
  },
  {
   "cell_type": "code",
   "execution_count": 59,
   "metadata": {},
   "outputs": [],
   "source": [
    "def get_nearest(query, dataframe, metric, top_k, ascending = True):\n",
    "    vector = torch.from_numpy(dataframe.loc[query].values).float()\n",
    "    # query에 대해 df에 들어있는 vector 값을 도출 \n",
    "    distance = dataframe.apply(\n",
    "    lambda x: metric(vector, torch.from_numpy(x.values).float()),\n",
    "    axis = 1)\n",
    "    # lambda함수를 사용해서 벡터와 x값에 대해 거리를 측정하는 함수를 불러와 값을 도출 \n",
    "    top_distance = distance.sort_values(ascending = ascending)[:top_k]\n",
    "    # 도출된 값에서 가장 거리가 유사한 단어를 사용자가 보고 싶어하는 수만큼 출력 \n",
    "    print(', '.join([f'{k} ({v:.1f})' for k, v in top_distance.items()]))\n",
    "    # key와 value를 도출하기 위해 \n",
    "    \n",
    "# 지정한 단어의 거리를 출력해주는 함수 "
   ]
  },
  {
   "cell_type": "code",
   "execution_count": 61,
   "metadata": {},
   "outputs": [
    {
     "name": "stdout",
     "output_type": "stream",
     "text": [
      "L1 distance:\n",
      "고 (0.0), 도 (120802.0), 네요 (130039.0), 이 (139468.0), 는 (140378.0), 하 (142467.0), 에 (146747.0), 가 (161040.0), 은 (162995.0), 게 (168644.0)\n"
     ]
    }
   ],
   "source": [
    "print('L1 distance:')\n",
    "get_nearest('고', df, get_l1_distance, 10)\n",
    "# '고'에서는 '도'가 l1에서 가장 거리가 가깞다"
   ]
  },
  {
   "cell_type": "code",
   "execution_count": 63,
   "metadata": {},
   "outputs": [
    {
     "name": "stdout",
     "output_type": "stream",
     "text": [
      "L2 distance:\n",
      "고 (0.0), 네요 (18046.8), 는 (20007.7), 이 (20206.4), 에 (20411.3), 게 (21296.6), 습니다 (22021.1), 은 (22074.9), 가 (22575.3), 는데 (22848.5)\n"
     ]
    }
   ],
   "source": [
    "print('L2 distance:')\n",
    "get_nearest('고', df, get_l2_distance, 10)"
   ]
  },
  {
   "cell_type": "code",
   "execution_count": 65,
   "metadata": {},
   "outputs": [
    {
     "name": "stdout",
     "output_type": "stream",
     "text": [
      "Infinity distance:\n",
      "고 (0.0), . (10751.0), 네요 (11739.0), 에 (12074.0), 안 (12854.0), 이 (12936.0), 배송 (12946.0), 지 (13247.0), 아요 (13264.0), 가격 (13315.0)\n"
     ]
    }
   ],
   "source": [
    "print('Infinity distance:')\n",
    "get_nearest('고', df, get_infinity_distance, 10)"
   ]
  },
  {
   "cell_type": "code",
   "execution_count": 68,
   "metadata": {},
   "outputs": [
    {
     "name": "stdout",
     "output_type": "stream",
     "text": [
      "Cosine distance:\n",
      "고 (1.0), 구 (1.0), 구요 (0.9), 기 (0.8), 면서 (0.8), 다고 (0.8), 포장 (0.8), 내요 (0.8), 고요 (0.8), 여 (0.8)\n"
     ]
    }
   ],
   "source": [
    "print('Cosine distance:')\n",
    "get_nearest('고', df, get_cosine_similarity, 10, ascending = False)"
   ]
  },
  {
   "cell_type": "markdown",
   "metadata": {},
   "source": [
    "### 정리 \n",
    "1. 텍스트를 불러와 각 단어와 빈도수를 도출하는 함수 \n",
    "2. 다양한 거리 측정함수를 사용해서 단어에 대한 거리를 측정\n",
    "3. Cosine distance가 가장 실효성이 높아보인다."
   ]
  },
  {
   "cell_type": "code",
   "execution_count": null,
   "metadata": {},
   "outputs": [],
   "source": []
  }
 ],
 "metadata": {
  "kernelspec": {
   "display_name": "Python 3",
   "language": "python",
   "name": "python3"
  },
  "language_info": {
   "codemirror_mode": {
    "name": "ipython",
    "version": 3
   },
   "file_extension": ".py",
   "mimetype": "text/x-python",
   "name": "python",
   "nbconvert_exporter": "python",
   "pygments_lexer": "ipython3",
   "version": "3.7.4"
  }
 },
 "nbformat": 4,
 "nbformat_minor": 2
}
