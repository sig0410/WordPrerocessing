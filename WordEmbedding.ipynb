{
 "cells": [
  {
   "cell_type": "markdown",
   "metadata": {},
   "source": [
    "### 단어 \n",
    "1. 단어는 discreate symbol & categorical value 형태 \n",
    "2. 우리의 머리속에서는 다르게 동작 \n",
    "3. 어휘는 계층적 의미 구조를 지니고 있으며 이에 따라 단어 사이의 유사성을 지님 \n",
    "4. One-hot 인코딩으로 표현된 값은 유사도나 모호성을 표현할 수 없음 그래서 5. 5. Dense Vector로 표현하는 것이 좋음 "
   ]
  },
  {
   "cell_type": "markdown",
   "metadata": {},
   "source": [
    "### Feature Vectors\n",
    "1. Feature : 샘플을 설명하는 특징이며 특징을 통해 수치화가능 \n",
    "2. Featrue Vector : 각 특징들을 모아서 하나의 vector로 만든 것 "
   ]
  },
  {
   "cell_type": "markdown",
   "metadata": {},
   "source": [
    "### Representation Learning via Dimension Reduction \n",
    "1. 신경망은 x와 y사이의 관계를 학습하는 과정에서 자연스럽게 x의 feature를 추출하는 방법을 학습 \n",
    "\n",
    "\n",
    "\n"
   ]
  }
 ],
 "metadata": {
  "kernelspec": {
   "display_name": "Python 3",
   "language": "python",
   "name": "python3"
  },
  "language_info": {
   "codemirror_mode": {
    "name": "ipython",
    "version": 3
   },
   "file_extension": ".py",
   "mimetype": "text/x-python",
   "name": "python",
   "nbconvert_exporter": "python",
   "pygments_lexer": "ipython3",
   "version": "3.7.4"
  }
 },
 "nbformat": 4,
 "nbformat_minor": 2
}
