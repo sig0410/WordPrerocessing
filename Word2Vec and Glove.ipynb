{
 "cells": [
  {
   "cell_type": "markdown",
   "metadata": {},
   "source": [
    "### Word2Vec\n",
    "1. 주변에 같은 단어가 나타나는 단어일 수록 비슷한 벡터 값을 가져야 함 \n",
    "2. Context Window의 사이즈에 따라 Embedding의 성격이 바뀔 수 있음, 즉 문장의 문맥에 따라 정해지는 것이 아님 \n",
    "3. CBOW와 Skip-gram 방식이 존재 \n",
    "4. CBOW는 주변의 단어가 주어졌을 때 현재의 단어를 예측하도록 학습 \n",
    "5. One-Hot vector에서 Word Embedding Vector를 통해 주변 단어를 예측하던지 아니면 한 단어를 예측\n",
    "6. Word Embedding Vector가 중요 "
   ]
  },
  {
   "cell_type": "markdown",
   "metadata": {},
   "source": [
    "### Glove \n",
    "1. 단어 x와 윈도우 내에 함께 출현한 단어들의 출현 빈도를 맞추도록 훈련 \n",
    "2. 윈도우 내에 단어와 출현 빈도까지 맞춰야하므로 Word2Vec과 다름 \n",
    "3. 그래서 Regression Task라고 생각 \n",
    "4. 즉, 한 단어가 주어지면 window에 따라 단어와 출현 빈도를 예측 \n",
    "5. 출현 빈도가 적은 단어에 대해 부정확해지는 단점을 보완 \n",
    "6. 출현 빈도가 적은 단어의 벡터를 비교적 정확하게 잘 구할 수 있음 \n",
    "7. 전체 Corpus에 대해 각 단어 별 co-occurrence를 구한 후, Regression을 수행 \n",
    "8. 한번 써보기 "
   ]
  }
 ],
 "metadata": {
  "kernelspec": {
   "display_name": "Python 3",
   "language": "python",
   "name": "python3"
  },
  "language_info": {
   "codemirror_mode": {
    "name": "ipython",
    "version": 3
   },
   "file_extension": ".py",
   "mimetype": "text/x-python",
   "name": "python",
   "nbconvert_exporter": "python",
   "pygments_lexer": "ipython3",
   "version": "3.7.4"
  }
 },
 "nbformat": 4,
 "nbformat_minor": 2
}
