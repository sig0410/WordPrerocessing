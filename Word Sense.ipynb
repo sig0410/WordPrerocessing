{
 "cells": [
  {
   "cell_type": "markdown",
   "metadata": {},
   "source": [
    "### Word Sense \n",
    "1. 한 단어가 여러번 사용될 수 있지만 한 단어는 각각 다른 의미를 가질 수 있음 \n"
   ]
  },
  {
   "cell_type": "markdown",
   "metadata": {},
   "source": [
    "### Homonym and polysemy \n",
    "1. Homonym : 다의어 ex) 차 : 마시는 차 | 달리는 차 \n",
    "2. Polysemy : 동형어 ex) 강남역 : 지하철역사 | 역 주변 상권 \n",
    "    - 차를 마실꺼예요에서 차가 마시는 차인지 달리는 차인지 확인 \n",
    "3. 그래서 우리는 Word Sense Disambiguation이 필요 "
   ]
  },
  {
   "cell_type": "markdown",
   "metadata": {},
   "source": [
    "### Synonyms and Antonyms\n",
    "1. Synonyms : 동의어 \n",
    "2. Antonyms : 반의어 "
   ]
  },
  {
   "cell_type": "markdown",
   "metadata": {},
   "source": [
    "### Hypernyms and Hyponyms\n",
    "1. 단어는 개념적 의미를 지님 \n",
    "2. 개념을 포괄하는 상위개념이 존재하고 계층적 구조를 지님 \n",
    "3. Hypernyms : 상위어 ex) 동물, 전화기, 컴퓨터 \n",
    "4. Hyponyms : 하위어 ex) 코끼리, 핸드폰, 노트북 "
   ]
  }
 ],
 "metadata": {
  "kernelspec": {
   "display_name": "Python 3",
   "language": "python",
   "name": "python3"
  },
  "language_info": {
   "codemirror_mode": {
    "name": "ipython",
    "version": 3
   },
   "file_extension": ".py",
   "mimetype": "text/x-python",
   "name": "python",
   "nbconvert_exporter": "python",
   "pygments_lexer": "ipython3",
   "version": "3.7.4"
  }
 },
 "nbformat": 4,
 "nbformat_minor": 2
}
